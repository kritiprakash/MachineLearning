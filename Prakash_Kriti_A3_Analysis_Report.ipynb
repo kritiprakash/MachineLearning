{
 "cells": [
  {
   "cell_type": "markdown",
   "metadata": {},
   "source": [
    "<hr style=\"height:.9px;border:none;color:#333;background-color:#333;\" />\n",
    "<br/>\n",
    "<h1>Management Report</h1>\n",
    "<p>Apprentice Chef Case - Analysis Report</p>\n",
    "\n",
    "Submitted by <b>Kriti Prakash</b><br/>\n",
    "Hult International Business School <br/>\n",
    "<hr style=\"height:.9px;border:none;color:#333;background-color:#333;\" />\n",
    "<hr style=\"height:.9px;border:none;color:#333;background-color:#333;\" />\n"
   ]
  },
  {
   "cell_type": "markdown",
   "metadata": {},
   "source": [
    "<strong>1.1 OVERVIEW<strong>"
   ]
  },
  {
   "cell_type": "markdown",
   "metadata": {},
   "source": [
    "Apprentice Chef Inc. innovates to support the working professionals with healthy food. Using Machine Learning models, we analyzed the data provided by your team to draw insights on predicting the revenue over first year of each customers life cycle and diversify the revenue stream."
   ]
  },
  {
   "cell_type": "code",
   "execution_count": 1,
   "metadata": {
    "code_folding": [
     0
    ],
    "scrolled": true
   },
   "outputs": [],
   "source": [
    "# importing libraries\n",
    "import pandas as pd # data science essentials\n",
    "import numpy as np\n",
    "import matplotlib.pyplot as plt # data visualization\n",
    "import seaborn as sns # enhanced data visualization\n",
    "import statsmodels.formula.api as smf # regression modeling\n",
    "from sklearn.model_selection import train_test_split # train/test split\n",
    "from sklearn.linear_model import LinearRegression\n",
    "import sklearn.linear_model\n",
    "import random            as rand                     # random number gen\n",
    "from sklearn.linear_model import LogisticRegression  # logistic regression\n",
    "from sklearn.metrics import confusion_matrix         # confusion matrix\n",
    "from sklearn.metrics import roc_auc_score            # auc score\n",
    "from sklearn.neighbors import KNeighborsClassifier   # KNN for classification\n",
    "from sklearn.neighbors import KNeighborsRegressor    # KNN for regression\n",
    "from sklearn.preprocessing import StandardScaler     # standard scaler\n",
    "# libraries for classification trees\n",
    "from sklearn.tree import DecisionTreeClassifier      # classification trees\n",
    "from sklearn.tree import export_graphviz             # exports graphics\n",
    "from six import StringIO           # saves objects in memory\n",
    "from IPython.display import Image                    # displays on frontend\n",
    "import pydotplus                                     # interprets dot objects\n",
    "from sklearn.model_selection import RandomizedSearchCV     # hyperparameter tuning\n",
    "from sklearn.metrics import make_scorer \n",
    "from sklearn.ensemble import RandomForestClassifier     # random forest\n",
    "from sklearn.ensemble import GradientBoostingClassifier\n",
    "\n",
    "# setting pandas print options\n",
    "pd.set_option('display.max_rows', 500)\n",
    "pd.set_option('display.max_columns', 500)\n",
    "pd.set_option('display.width', 1000)\n",
    "\n",
    "\n",
    "# specifying the path and file name\n",
    "file = './datasets/Apprentice_Chef_Regression.xlsx'\n",
    "\n",
    "\n",
    "# reading the file into Python\n",
    "chef = pd.read_excel(file)\n"
   ]
  },
  {
   "cell_type": "markdown",
   "metadata": {},
   "source": [
    "<strong>1.2 REGRESSION MODEL ANALYSIS<strong>"
   ]
  },
  {
   "cell_type": "code",
   "execution_count": 2,
   "metadata": {
    "code_folding": [
     0
    ]
   },
   "outputs": [],
   "source": [
    "#dropping variables to proceed with regression. \n",
    "chef_df = chef.drop(['REVENUE', 'log_revenue',\n",
    "                        'NAME','EMAIL','AVG_PREP_VID_TIME','AVG_TIME_PER_SITE_VISIT',\n",
    "                        'FIRST_NAME','TOTAL_MEALS_ORDERED','LARGEST_ORDER_SIZE','UNIQUE_MEALS_PURCH',\n",
    "                        'FAMILY_NAME','email_domain'],\n",
    "                         axis = 1)\n",
    "\n",
    "\n",
    "# preparing response variables\n",
    "chef_target = chef.loc[ : , 'REVENUE']\n",
    "log_chef_target = chef.loc[ : , 'log_revenue']\n",
    "\n",
    "# preparing training and testing sets\n",
    "x_train, x_test, y_train, y_test = train_test_split(\n",
    "            chef_df,\n",
    "            log_chef_target,\n",
    "            test_size = 0.25,\n",
    "            random_state = 219)\n"
   ]
  },
  {
   "cell_type": "code",
   "execution_count": 3,
   "metadata": {
    "code_folding": [
     0
    ]
   },
   "outputs": [],
   "source": [
    "# declaring set of x-variables\n",
    "x_variables = ['CROSS_SELL_SUCCESS','CONTACTS_W_CUSTOMER_SERVICE',\n",
    "                                'MASTER_CLASSES_ATTENDED',\n",
    "                                'MEDIAN_MEAL_RATING',\n",
    "                                'AVG_CLICKS_PER_VISIT',\n",
    "                                'TOTAL_PHOTOS_VIEWED',\n",
    "                                'domain_group_company',\n",
    "                                'domain_group_junk',\n",
    "                                'domain_group_personal',\n",
    "                                'log_TOTAL_MEALS_ORDERED',\n",
    "                                'log_AVG_PREP_VID_TIME',\n",
    "                                'log_LARGEST_ORDER_SIZE',\n",
    "                                'log_UNIQUE_MEALS_PURCH',\n",
    "                                'total_unique_orders',\n",
    "                                'total_orders_contact_custServ']\n"
   ]
  },
  {
   "cell_type": "code",
   "execution_count": 4,
   "metadata": {
    "code_folding": [
     0
    ]
   },
   "outputs": [],
   "source": [
    "# applying model in scikit-learn\n",
    "\n",
    "# Preparing a DataFrame based the analysis above\n",
    "ols_data   = chef.loc[ : , x_variables]\n",
    "\n",
    "\n",
    "# Preparing the target variable\n",
    "log_chef_target = chef.loc[ : , 'log_revenue']\n",
    "\n",
    "\n",
    "###############################################\n",
    "## setting up more than one train-test split ##\n",
    "###############################################\n",
    "#splitting the dataset by keeping the test size to 0.25\n",
    "\n",
    "# FULL x-dataset (normal Y)\n",
    "x_train_FULL, x_test_FULL, y_train_FULL, y_test_FULL = train_test_split(\n",
    "            chef_df,     # x-variables\n",
    "            log_chef_target,   # y-variable\n",
    "            test_size = 0.25,\n",
    "            random_state = 219)\n",
    "\n",
    "\n",
    "# OLS p-value x-dataset (normal Y)\n",
    "x_train_OLS, x_test_OLS, y_train_OLS, y_test_OLS = train_test_split(\n",
    "            ols_data,         # x-variables\n",
    "            log_chef_target,   # y-variable\n",
    "            test_size = 0.25,\n",
    "            random_state = 219)\n"
   ]
  },
  {
   "cell_type": "markdown",
   "metadata": {},
   "source": [
    "<strong>1.2.1 Printing the Score (R-Square) for the best Regression Model - ARD<strong>"
   ]
  },
  {
   "cell_type": "code",
   "execution_count": 5,
   "metadata": {
    "code_folding": [
     0
    ]
   },
   "outputs": [
    {
     "name": "stdout",
     "output_type": "stream",
     "text": [
      "Training Score: 0.753\n",
      "Testing Score : 0.751\n",
      "ARD Train-Test Gap : 0.002\n"
     ]
    }
   ],
   "source": [
    "# INSTANTIATING Bayesian Automatic Relevance Determination (ARD) model object\n",
    "ard_model = sklearn.linear_model.ARDRegression(normalize  = False)\n",
    "\n",
    "\n",
    "# FITTING the training data\n",
    "ard_fit = ard_model.fit(x_train_FULL, y_train_FULL)\n",
    "\n",
    "\n",
    "# PREDICTING on new data\n",
    "ard_pred = ard_fit.predict(x_test_FULL)\n",
    "\n",
    "\n",
    "print('Training Score:', ard_model.score(x_train_FULL, y_train_FULL).round(3))\n",
    "print('Testing Score :',  ard_model.score(x_test_FULL, y_test_FULL).round(3))\n",
    "\n",
    "\n",
    "# saving scoring data for future use\n",
    "ard_train_score = ard_model.score(x_train_FULL, y_train_FULL).round(3)\n",
    "ard_test_score  = ard_model.score(x_test_FULL, y_test_FULL).round(3)\n",
    "\n",
    "\n",
    "# displaying and saving the gap between training and testing\n",
    "print('ARD Train-Test Gap :', abs(ard_train_score - ard_test_score).round(3))\n",
    "ard_test_gap = abs(ard_train_score - ard_test_score).round(3)"
   ]
  },
  {
   "cell_type": "code",
   "execution_count": 6,
   "metadata": {
    "code_folding": [
     0
    ]
   },
   "outputs": [
    {
     "data": {
      "image/png": "[encoded data removed]",
      "text/plain": [
       "<Figure size 720x720 with 2 Axes>"
      ]
     },
     "metadata": {
      "needs_background": "light"
     },
     "output_type": "display_data"
    }
   ],
   "source": [
    "# correlation heatmap\n",
    "df_corr = chef.corr().round(2)\n",
    "# setting figure size\n",
    "fig, ax = plt.subplots(figsize=(10,10))\n",
    "\n",
    "\n",
    "# limiting the size of the correlation matrix\n",
    "df_corr2 = df_corr.loc[ ['REVENUE', 'CONTACTS_W_CUSTOMER_SERVICE',\n",
    "                         'TASTES_AND_PREFERENCES', 'MASTER_CLASSES_ATTENDED', 'total_orders_contact_custServ', \n",
    "                         'product_cat_viewed_over_total_logins','HAS_VIEWED_PHOTO','MEDIAN_MEAL_RATING'],\n",
    "                      ['REVENUE','CONTACTS_W_CUSTOMER_SERVICE',\n",
    "                         'TASTES_AND_PREFERENCES', 'MASTER_CLASSES_ATTENDED', 'total_orders_contact_custServ', \n",
    "                         'product_cat_viewed_over_total_logins','HAS_VIEWED_PHOTO','MEDIAN_MEAL_RATING']]\n",
    "\n",
    "\n",
    "\n",
    "mask = np.zeros_like(df_corr2)\n",
    "triangle_indices  = np.triu_indices_from(mask)\n",
    "mask[triangle_indices] = True\n",
    "mask\n",
    "\n",
    "# visualizing the correlation matrix\n",
    "sns.heatmap(df_corr2,\n",
    "            mask = mask,\n",
    "            cmap       = 'inferno',     # changing to SPICY colors\n",
    "            square     = True,          # tightening the layout\n",
    "            annot      = True,\n",
    "            annot_kws = {'size' : 14},\n",
    "                  # lines between boxes\n",
    "            linewidths = 0.5)          # how thick should the lines be?\n",
    "\n",
    "#setting the background color\n",
    "\n",
    "\n",
    "plt.xticks(fontsize = 12)\n",
    "plt.yticks(fontsize = 12)\n",
    "\n",
    "\n",
    "\n",
    "\n",
    "# saving and displaying the correlation matrix\n",
    "plt.savefig('Housing Correlation Heatmap.png')\n",
    "plt.show()"
   ]
  },
  {
   "cell_type": "markdown",
   "metadata": {},
   "source": [
    "<strong>1.2.2 INSIGHTS AND RECOMMENDATIONS<strong>"
   ]
  },
  {
   "cell_type": "markdown",
   "metadata": {},
   "source": [
    "    \n",
    "1. Looking at the correlations, we can see that Master Cooking (Master_Class_Attended) is highly correlated with Revenue(0.45) and basis the analysis we conclude that probability of increasing Revenue is 2.5% by increasing the Master Cooking Class. We recommend increasing the frequency of the Master Cooking Class from quarterly to monthly and in multiple locations to increase the customer engagement ratio. Also, we recommended working on personalizing customer journey for improving the meal rating with is positively related with Revenue (0.61).\n",
    "\n",
    "\n",
    "2. Secondly, with the negative correlation of customers contacting customer service with Revenue, we recommend revising strategy for Customer Service Team. The customer approaching the Customer Service are not satisfied with the service and we recommend training the team on customer handling which will result in better Customer Satisfaction. \n"
   ]
  },
  {
   "cell_type": "markdown",
   "metadata": {},
   "source": [
    "<strong>1.3 CLASSIFICATION MODEL ANALYSIS<strong>"
   ]
  },
  {
   "cell_type": "code",
   "execution_count": 7,
   "metadata": {
    "code_folding": [
     0
    ]
   },
   "outputs": [],
   "source": [
    "#########################\n",
    "# text_split_feature\n",
    "#########################\n",
    "#creating a new variable in the dataframe called number of names\n",
    "def text_split_feature(col, df, sep=' ', new_col_name='number_of_names'):\n",
    "    \"\"\"\n",
    "Splits values in a string Series (as part of a DataFrame) and sums the number\n",
    "of resulting items. Automatically appends summed column to original DataFrame.\n",
    "\n",
    "PARAMETERS\n",
    "----------\n",
    "col          : column to split\n",
    "df           : DataFrame where column is located\n",
    "sep          : string sequence to split by, default ' '\n",
    "new_col_name : name of new column after summing split, default\n",
    "               'number_of_names'\n",
    "\"\"\"\n",
    "    \n",
    "    df[new_col_name] = 0\n",
    "    \n",
    "    \n",
    "    for index, val in df.iterrows():\n",
    "        df.loc[index, new_col_name] = len(df.loc[index, col].split(sep = ' '))"
   ]
  },
  {
   "cell_type": "code",
   "execution_count": 8,
   "metadata": {
    "code_folding": [
     0
    ]
   },
   "outputs": [],
   "source": [
    "text_split_feature(col = 'NAME',\n",
    "                   df  = chef)"
   ]
  },
  {
   "cell_type": "code",
   "execution_count": 9,
   "metadata": {
    "code_folding": [
     0
    ]
   },
   "outputs": [],
   "source": [
    "# declaring explanatory variables\n",
    "chef_data = chef.drop(['NAME','EMAIL','late_deli_over_total_meals','total_orders_without_cancellations',\n",
    "                        'FIRST_NAME','total_orders_contact_custServ','total_unique_orders','late_over_total',\n",
    "                        'FAMILY_NAME','email_domain','CROSS_SELL_SUCCESS','total_logins_over_total_meals_ordered',\n",
    "                      'product_cat_viewed_over_total_logins','log_UNIQUE_MEALS_PURCH','log_LARGEST_ORDER_SIZE',\n",
    "                      'log_AVG_TIME_PER_SITE_VISIT','log_AVG_PREP_VID_TIME','log_TOTAL_MEALS_ORDERED','log_revenue',\n",
    "                      'HAS_WEEKLY_PLAN','HAS_VIEWED_PHOTO'],\n",
    "                         axis = 1)\n",
    "\n",
    "# declaring response variable\n",
    "chef_target = chef.loc[ : , 'CROSS_SELL_SUCCESS']"
   ]
  },
  {
   "cell_type": "code",
   "execution_count": 10,
   "metadata": {
    "code_folding": [
     0
    ]
   },
   "outputs": [],
   "source": [
    "# train-test split with stratification\n",
    "x_train, x_test, y_train, y_test = train_test_split(\n",
    "            chef_data,\n",
    "            chef_target,\n",
    "            test_size    = 0.25,\n",
    "            random_state = 219,\n",
    "            stratify     = chef_target)\n",
    "\n",
    "\n",
    "# merging training data for statsmodels\n",
    "chef_train = pd.concat([x_train, y_train], axis = 1)"
   ]
  },
  {
   "cell_type": "code",
   "execution_count": 11,
   "metadata": {
    "code_folding": [
     0
    ]
   },
   "outputs": [],
   "source": [
    "# creating a dictionary to store candidate models\n",
    "\n",
    "candidate_dict = {\n",
    "\n",
    "    #all variables (set)\n",
    " 'logit_full'    : ['REVENUE', 'TOTAL_MEALS_ORDERED', 'UNIQUE_MEALS_PURCH', 'CONTACTS_W_CUSTOMER_SERVICE', \n",
    " 'PRODUCT_CATEGORIES_VIEWED', 'AVG_TIME_PER_SITE_VISIT', 'MOBILE_NUMBER', 'CANCELLATIONS_BEFORE_NOON',\n",
    " 'CANCELLATIONS_AFTER_NOON', 'TASTES_AND_PREFERENCES', 'PC_LOGINS', 'MOBILE_LOGINS', 'WEEKLY_PLAN', \n",
    " 'EARLY_DELIVERIES', 'LATE_DELIVERIES', 'PACKAGE_LOCKER', 'REFRIGERATED_LOCKER','AVG_PREP_VID_TIME', \n",
    " 'LARGEST_ORDER_SIZE','MASTER_CLASSES_ATTENDED','MEDIAN_MEAL_RATING','AVG_CLICKS_PER_VISIT','TOTAL_PHOTOS_VIEWED', \n",
    " 'domain_group_company','domain_group_junk','domain_group_personal', 'number_of_names'],\n",
    "    \n",
    " # significant variables only (set 1)\n",
    " 'logit_sig'    : ['REVENUE','CONTACTS_W_CUSTOMER_SERVICE',   \n",
    "                                     'MOBILE_NUMBER',\n",
    "                                     'CANCELLATIONS_BEFORE_NOON',  \n",
    "                                     'TASTES_AND_PREFERENCES',\n",
    "                                     'PC_LOGINS',\n",
    "                                     'EARLY_DELIVERIES',  \n",
    "                                     'REFRIGERATED_LOCKER',  \n",
    "                                     'MASTER_CLASSES_ATTENDED', \n",
    "                                     'MEDIAN_MEAL_RATING',\n",
    "                                     'domain_group_company', \n",
    "                                     'domain_group_junk',\n",
    "                                     'number_of_names']\n",
    "  \n",
    "}"
   ]
  },
  {
   "cell_type": "code",
   "execution_count": 12,
   "metadata": {
    "code_folding": [
     0
    ]
   },
   "outputs": [],
   "source": [
    "#Random Forest Model\n",
    "# INSTANTIATING a random forest model with default values\n",
    "rf_default = RandomForestClassifier(n_estimators     = 100,\n",
    "                                    criterion        = 'gini',\n",
    "                                    max_depth        = None,\n",
    "                                    min_samples_leaf = 1,\n",
    "                                    bootstrap        = True,\n",
    "                                    warm_start       = False,\n",
    "                                    random_state     = 219)"
   ]
  },
  {
   "cell_type": "code",
   "execution_count": 13,
   "metadata": {
    "code_folding": [
     0
    ]
   },
   "outputs": [],
   "source": [
    "########################################\n",
    "# plot_feature_importances\n",
    "########################################\n",
    "def plot_feature_importances(model, train, export = False):\n",
    "    \"\"\"\n",
    "    Plots the importance of features from a CART model.\n",
    "    \n",
    "    PARAMETERS\n",
    "    ----------\n",
    "    model  : CART model\n",
    "    train  : explanatory variable training data\n",
    "    export : whether or not to export as a .png image, default False\n",
    "    \"\"\"\n",
    "    \n",
    "    # declaring the number\n",
    "    n_features = train.shape[1]\n",
    "    \n",
    "    # setting plot window\n",
    "    fig, ax = plt.subplots(figsize=(12,9))\n",
    "    \n",
    "    plt.barh(range(n_features), model.feature_importances_, align='center')\n",
    "    plt.yticks(pd.np.arange(n_features), train.columns)\n",
    "    plt.xlabel(\"Feature importance\")\n",
    "    plt.ylabel(\"Feature\")\n",
    "    \n",
    "    if export == True:\n",
    "        plt.savefig('./analysis_images/Feature_Importance.png')"
   ]
  },
  {
   "cell_type": "code",
   "execution_count": 14,
   "metadata": {
    "code_folding": [
     0
    ]
   },
   "outputs": [],
   "source": [
    "# train/test split with the logit_sig variables (set 1)\n",
    "chef_df   =  chef.loc[ : , candidate_dict['logit_full']]\n",
    "chef_target =  chef.loc[ : , 'CROSS_SELL_SUCCESS']\n",
    "\n",
    "\n",
    "# train/test split\n",
    "x_train, x_test, y_train, y_test = train_test_split(\n",
    "            chef_df,\n",
    "            chef_target,\n",
    "            random_state = 219,\n",
    "            test_size    = 0.25,\n",
    "            stratify     = chef_target)"
   ]
  },
  {
   "cell_type": "markdown",
   "metadata": {},
   "source": [
    "<strong>1.3.1 Printing AUC score for the Best Classification Model - Tuned Random Forest<strong>"
   ]
  },
  {
   "cell_type": "code",
   "execution_count": 15,
   "metadata": {
    "code_folding": [
     0
    ]
   },
   "outputs": [
    {
     "name": "stdout",
     "output_type": "stream",
     "text": [
      "Forest Tuned Training ACCURACY: 0.831\n",
      "Forest Tuned Testing  ACCURACY: 0.834\n",
      "Forest Tuned AUC Score        : 0.751\n"
     ]
    }
   ],
   "source": [
    "#Tuned Random Forest\n",
    "# building a model based on hyperparameter tuning results\n",
    "\n",
    "# copy/pasting in the best_estimator_ results\n",
    "# to avoid running another RandomizedSearch\n",
    "forest_tuned = RandomForestClassifier(bootstrap=False, criterion='entropy', max_depth=7,\n",
    "                       min_samples_leaf=3, n_estimators=850, random_state=219,\n",
    "                       warm_start=True)\n",
    "\n",
    "# FITTING the model object\n",
    "forest_tuned_fit = forest_tuned.fit(chef_df, chef_target)\n",
    "\n",
    "\n",
    "# PREDICTING based on the testing set\n",
    "forest_tuned_pred = forest_tuned_fit.predict(x_test)\n",
    "\n",
    "\n",
    "# SCORING the results\n",
    "print('Forest Tuned Training ACCURACY:', forest_tuned.score(x_train, y_train).round(3))\n",
    "print('Forest Tuned Testing  ACCURACY:', forest_tuned.score(x_test, y_test).round(3))\n",
    "print('Forest Tuned AUC Score        :', roc_auc_score(y_true  = y_test,\n",
    "                                                   y_score = forest_tuned_pred).round(3))\n",
    "\n",
    "\n",
    "# saving scoring data for future use\n",
    "forest_tuned_train_score = forest_tuned.score(x_train, y_train).round(3) # accuracy\n",
    "forest_tuned_test_score  = forest_tuned.score(x_test, y_test).round(3)   # accuracy\n",
    "\n",
    "\n",
    "# saving the AUC score\n",
    "forest_tuned_auc = roc_auc_score(y_true  = y_test,\n",
    "                                 y_score = forest_tuned_pred).round(3) # auc"
   ]
  },
  {
   "cell_type": "code",
   "execution_count": 16,
   "metadata": {
    "code_folding": [
     0
    ]
   },
   "outputs": [
    {
     "name": "stdout",
     "output_type": "stream",
     "text": [
      "\n",
      "True Negatives : 81\n",
      "False Positives: 75\n",
      "False Negatives: 6\n",
      "True Positives : 325\n",
      "\n"
     ]
    }
   ],
   "source": [
    "# unpacking the confusion matrix\n",
    "tuned_rf_tn, \\\n",
    "tuned_rf_fp, \\\n",
    "tuned_rf_fn, \\\n",
    "tuned_rf_tp = confusion_matrix(y_true = y_test, y_pred = forest_tuned_pred).ravel()\n",
    "\n",
    "\n",
    "# printing each result one-by-one\n",
    "print(f\"\"\"\n",
    "True Negatives : {tuned_rf_tn}\n",
    "False Positives: {tuned_rf_fp}\n",
    "False Negatives: {tuned_rf_fn}\n",
    "True Positives : {tuned_rf_tp}\n",
    "\"\"\")"
   ]
  },
  {
   "cell_type": "code",
   "execution_count": 17,
   "metadata": {
    "code_folding": [
     0
    ]
   },
   "outputs": [
    {
     "name": "stderr",
     "output_type": "stream",
     "text": [
      "<ipython-input-13-141a9830ad1b>:22: FutureWarning: The pandas.np module is deprecated and will be removed from pandas in a future version. Import numpy directly instead\n",
      "  plt.yticks(pd.np.arange(n_features), train.columns)\n"
     ]
    },
    {
     "data": {
      "image/png": "[encoded data removed]",
      "text/plain": [
       "<Figure size 864x648 with 1 Axes>"
      ]
     },
     "metadata": {
      "needs_background": "light"
     },
     "output_type": "display_data"
    }
   ],
   "source": [
    "#plotting the important features/variables\n",
    "plot_feature_importances(forest_tuned_fit,\n",
    "                         train = x_train,\n",
    "                         export = False)"
   ]
  },
  {
   "cell_type": "markdown",
   "metadata": {},
   "source": [
    "<strong>1.3.2 INSIGHTS AND RECOMMENDATIONS<strong>"
   ]
  },
  {
   "cell_type": "markdown",
   "metadata": {},
   "source": [
    "1. For Cross Selling one of the most important variable/feature is the Junk Email domain(as shown in graph above). We recommend including and analyzing the junk email domain in formulating strategy for widening the audience for cross-selling promotion. \n",
    "\n",
    "\n",
    "2. We recommend creating more content on the website to make the website more interactive increasing the average time per visit which is an important variable contributing to cross-sell promotion to diversify revenue stream.  \n"
   ]
  },
  {
   "cell_type": "markdown",
   "metadata": {},
   "source": [
    "<strong>1.4 CONCLUSION<strong>"
   ]
  },
  {
   "cell_type": "markdown",
   "metadata": {},
   "source": [
    "75% change in revenue can be explained by the Regression model. Classification model is 83% accurate in predicting the number of people where cross selling was successful and where not. \n",
    "\n",
    "\n",
    "We recommend collecting data on Gender and Age to help in better classification and accuracy for cross selling techniques and revenue. "
   ]
  }
 ],
 "metadata": {
  "kernelspec": {
   "display_name": "Python 3",
   "language": "python",
   "name": "python3"
  },
  "language_info": {
   "codemirror_mode": {
    "name": "ipython",
    "version": 3
   },
   "file_extension": ".py",
   "mimetype": "text/x-python",
   "name": "python",
   "nbconvert_exporter": "python",
   "pygments_lexer": "ipython3",
   "version": "3.8.3"
  },
  "toc": {
   "base_numbering": 1,
   "nav_menu": {},
   "number_sections": true,
   "sideBar": true,
   "skip_h1_title": false,
   "title_cell": "Table of Contents",
   "title_sidebar": "Contents",
   "toc_cell": false,
   "toc_position": {},
   "toc_section_display": true,
   "toc_window_display": false
  },
  "varInspector": {
   "cols": {
    "lenName": 16,
    "lenType": 16,
    "lenVar": 40
   },
   "kernels_config": {
    "python": {
     "delete_cmd_postfix": "",
     "delete_cmd_prefix": "del ",
     "library": "var_list.py",
     "varRefreshCmd": "print(var_dic_list())"
    },
    "r": {
     "delete_cmd_postfix": ") ",
     "delete_cmd_prefix": "rm(",
     "library": "var_list.r",
     "varRefreshCmd": "cat(var_dic_list()) "
    }
   },
   "types_to_exclude": [
    "module",
    "function",
    "builtin_function_or_method",
    "instance",
    "_Feature"
   ],
   "window_display": false
  }
 },
 "nbformat": 4,
 "nbformat_minor": 4
}
