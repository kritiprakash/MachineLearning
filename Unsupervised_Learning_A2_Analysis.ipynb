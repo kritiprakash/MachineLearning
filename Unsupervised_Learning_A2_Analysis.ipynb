{
 "cells": [
  {
   "cell_type": "markdown",
   "metadata": {},
   "source": [
    "<hr style=\"height:.9px;border:none;color:#333;background-color:#333;\" />\n",
    "<br/>\n",
    "<h1>Management Report</h1>\n",
    "<p>Survey Data - Unsupervised Analysis Project</p>\n",
    "\n",
    "Submitted by <b>Kriti Prakash</b><br/>\n",
    "Hult International Business School <br/>\n",
    "<hr style=\"height:.9px;border:none;color:#333;background-color:#333;\" />\n",
    "<hr style=\"height:.9px;border:none;color:#333;background-color:#333;\" />\n"
   ]
  },
  {
   "cell_type": "markdown",
   "metadata": {},
   "source": [
    "<strong> 1.1 OVERVIEW <strong>"
   ]
  },
  {
   "cell_type": "markdown",
   "metadata": {},
   "source": [
    "We have been hired by Apple to analyze the buying behavior of customers based on the data collected through a survey of 137 observations. Basis our analysis, we present to you the following report with our insight and recommendations on better segmenting and understanding the customer behavior to formulate profitable promotional strategies for each segment. "
   ]
  },
  {
   "cell_type": "code",
   "execution_count": 1,
   "metadata": {},
   "outputs": [
    {
     "data": {
      "text/html": [
       "<script>\n",
       "code_show=true; \n",
       "function code_toggle() {if (code_show){ $('div.input').hide(); } else { $('div.input').show();}; code_show = !code_show} \n",
       "$( document ).ready(code_toggle);\n",
       "</script>\n",
       "<form action=\"javascript:code_toggle()\"><input type=\"submit\" value=\"Show / Hide Code\"></form>"
      ],
      "text/plain": [
       "<IPython.core.display.HTML object>"
      ]
     },
     "execution_count": 1,
     "metadata": {},
     "output_type": "execute_result"
    }
   ],
   "source": [
    "from IPython.display import HTML\n",
    "\n",
    "HTML('''<script>\n",
    "code_show=true; \n",
    "function code_toggle() {if (code_show){ $('div.input').hide(); } else { $('div.input').show();}; code_show = !code_show} \n",
    "$( document ).ready(code_toggle);\n",
    "</script>\n",
    "<form action=\"javascript:code_toggle()\"><input type=\"submit\" value=\"Show / Hide Code\"></form>''')"
   ]
  },
  {
   "cell_type": "code",
   "execution_count": 2,
   "metadata": {},
   "outputs": [],
   "source": [
    "# The Survey Data - Cohort 3 & Team 10 - Hult MsBA 2021 Class\n",
    "# Unsupervised learning model\n",
    "# Assumption: The data delivered by marketing team was collected and stored correctly  \n",
    "# import libraries\n",
    "\n",
    "import pandas as pd\n",
    "import numpy as np\n",
    "import matplotlib.pyplot as plt  # also <from matplotlib import pyplot as plt>\n",
    "import seaborn as sns\n",
    "from sklearn.preprocessing import StandardScaler     # standard scaler\n",
    "from sklearn.decomposition import PCA            # pca\n",
    "from scipy.cluster.hierarchy import dendrogram, linkage # dendrograms\n",
    "from sklearn.cluster         import KMeans              # k-means clustering"
   ]
  },
  {
   "cell_type": "code",
   "execution_count": 3,
   "metadata": {},
   "outputs": [],
   "source": [
    "########################################\n",
    "# scree_plot\n",
    "########################################\n",
    "def scree_plot(pca_object, export = False):\n",
    "    # building a scree plot\n",
    "\n",
    "    # setting plot size\n",
    "    fig, ax = plt.subplots(figsize=(10, 8))\n",
    "    features = range(pca_object.n_components_)\n",
    "\n",
    "\n",
    "    # developing a scree plot\n",
    "    plt.plot(features,\n",
    "             pca_object.explained_variance_ratio_,\n",
    "             linewidth = 2,\n",
    "             marker = 'o',\n",
    "             markersize = 10,\n",
    "             markeredgecolor = 'black',\n",
    "             markerfacecolor = 'grey')\n",
    "\n",
    "\n",
    "    # setting more plot options\n",
    "    plt.title('Scree Plot')\n",
    "    plt.xlabel('PCA feature')\n",
    "    plt.ylabel('Explained Variance')\n",
    "    plt.xticks(features)\n",
    "\n",
    "    if export == True:\n",
    "    \n",
    "        # exporting the plot\n",
    "        plt.savefig('./analysis_images/top_customers_correlation_scree_plot.png')\n",
    "        \n",
    "    # displaying the plot\n",
    "    plt.show()\n",
    "    \n",
    "    \n",
    "########################################\n",
    "# inertia\n",
    "########################################\n",
    "def interia_plot(data, max_clust = 50):\n",
    "    \"\"\"\n",
    "PARAMETERS\n",
    "----------\n",
    "data      : DataFrame, data from which to build clusters. Dataset should be scaled\n",
    "max_clust : int, maximum of range for how many clusters to check interia, default 50\n",
    "    \"\"\"\n",
    "\n",
    "    ks = range(1, max_clust)\n",
    "    inertias = []\n",
    "\n",
    "\n",
    "    for k in ks:\n",
    "        # INSTANTIATING a kmeans object\n",
    "        model = KMeans(n_clusters = k)\n",
    "\n",
    "\n",
    "        # FITTING to the data\n",
    "        model.fit(data)\n",
    "\n",
    "\n",
    "        # append each inertia to the list of inertias\n",
    "        inertias.append(model.inertia_)\n",
    "\n",
    "\n",
    "\n",
    "    # plotting ks vs inertias\n",
    "    fig, ax = plt.subplots(figsize = (12, 8))\n",
    "    plt.plot(ks, inertias, '-o')\n",
    "\n",
    "\n",
    "    # labeling and displaying the plot\n",
    "    plt.xlabel('number of clusters, k')\n",
    "    plt.ylabel('inertia')\n",
    "    plt.xticks(ks)\n",
    "    plt.show()"
   ]
  },
  {
   "cell_type": "code",
   "execution_count": 4,
   "metadata": {},
   "outputs": [],
   "source": [
    "# Reading the final dataset\n",
    "\n",
    "# initial preparing the dataframe\n",
    "\n",
    "# setting pandas print options\n",
    "pd.set_option('display.max_rows', 500)\n",
    "pd.set_option('display.max_columns', 500)\n",
    "pd.set_option('display.width', 1000)\n",
    "\n",
    "\n",
    "# reading the dataframe for regression\n",
    "file   ='datasets./survey_data.xlsx'\n",
    "survey = pd.read_excel(io = file)"
   ]
  },
  {
   "cell_type": "markdown",
   "metadata": {},
   "source": [
    "<strong> 1.2 FEATURE ENGINEERING <strong>"
   ]
  },
  {
   "cell_type": "code",
   "execution_count": 5,
   "metadata": {},
   "outputs": [],
   "source": [
    "#Complie a dictionary to replace the column name\n",
    "\n",
    "#simplefied column name     : original column name \n",
    "column_name_dictionary = {\n",
    " 'SurveyID'                 : 'surveyID',\n",
    " 'Party_Life'               : 'Am the life of the party',\n",
    " 'Ignore_Others'            : 'Feel little concern for others',\n",
    " 'Well_Prepared'            : 'Am always prepared',\n",
    " 'Handle_Stress_Easily'     : 'Get stressed out easily',\n",
    " 'Rich_Vocabulary'          : 'Have a rich vocabulary',\n",
    " 'Not_Talkative'            : \"Don't talk a lot\",\n",
    " 'People_Cared'             : 'Am interested in people',\n",
    " 'Territory_Awareness'      : 'Leave my belongings around',\n",
    " 'Relaxed'                  : 'Am relaxed most of the time',\n",
    " 'Complexity'               : 'Have difficulty understanding abstract ideas',\n",
    " 'Social'                   : 'Feel comfortable around people',\n",
    " 'Insult'                   : 'Insult people',\n",
    " 'Detail_Oriented'          : 'Pay attention to details',\n",
    " 'Worried'                  : 'Worry about things',\n",
    " 'Vivid_Imagination'        : 'Have a vivid imagination',\n",
    " 'Being_Behind'             : 'Keep in the background',\n",
    " 'Compassionate'            : \"Sympathize with others' feelings\",\n",
    " 'Messed_Up'                : 'Make a mess of things',\n",
    "  'Seldom_Depressed'        : 'Seldom feel blue',\n",
    " 'Non_abstract_Oriented'    : 'Am not interested in abstract ideas',\n",
    " 'Conversation_Starter'     : 'Start conversations',\n",
    " 'Egocentric'               : \"Am not interested in other people's problems\",\n",
    " 'Act_Now'                  : 'Get chores done right away',\n",
    " 'Easily_Disturbed'         : 'Am easily disturbed',\n",
    " 'Innovative'               : 'Have excellent ideas',\n",
    " 'Talk_Less'                : 'Have little to say',\n",
    " 'Soft_Hearted'             : 'Have a soft heart',\n",
    " 'Forget_to_return'         : 'Often forget to put things back in their proper place',\n",
    " 'Easily_Upset'             : 'Get upset easily',\n",
    " 'Lack_of_Imagination'      : 'Do not have a good imagination',\n",
    " 'Party_Talkative'          : 'Talk to a lot of different people at parties',\n",
    " 'Interested_in_Others'     : 'Am not really interested in others',\n",
    " 'Ordered'                  : 'Like order',\n",
    " 'Sensitive'                : 'Change my mood a lot',\n",
    " 'Quickly_Understand'       : 'Am quick to understand things',\n",
    " 'Unfocused'                : \"Don't like to draw attention to myself\",\n",
    " 'Serving_Others'           : 'Take time out for others',\n",
    " 'Shirk_Duties'             : 'Shirk my duties',\n",
    " 'Emotion_Unstabled'        : 'Have frequent mood swings',\n",
    " 'Difficult_Words'          : 'Use difficult words',\n",
    " 'Accept_Attention'         : \"Don't mind being the center of attention\",\n",
    " 'Empathy'                  : \"Feel others' emotions\",\n",
    " 'Scheduled'                : 'Follow a schedule',\n",
    " 'Easily_Irritated'         : 'Get irritated easily',\n",
    " 'Think_Deeply'             : 'Spend time reflecting on things',\n",
    " 'Quiet_around_Strangers'   : 'Am quiet around strangers',\n",
    " 'Reliable'                 : 'Make people feel at ease',\n",
    " 'Passion_on_Work'          : 'Am exacting in my work',\n",
    " 'Often_Depressed'          : 'Often feel blue',\n",
    " 'Full_of_Ideas'            : 'Am full of ideas',\n",
    " 'Beyond_Surface'           : 'See underlying patterns in complex situations',\n",
    " 'Stubborn'                 : \"Don't  generate ideas that are new and different\",\n",
    " 'Show_Self_Awareness'      : 'Demonstrate an awareness of personal strengths and limitations',\n",
    " 'Show_Growth_Mindset'      : 'Display a growth mindset',\n",
    " 'Respond_Effectively'      : 'Respond effectively to multiple priorities',\n",
    " 'Blind_Action'             : \"Take initiative even when circumstances, objectives, or rules aren't clear\",\n",
    " 'Prefer_Open_Discussion'   : 'Encourage direct and open discussions',\n",
    " 'Respond_Effectively_1'    : 'Respond effectively to multiple priorities.1',\n",
    " 'Blind_Action_1'           : \"Take initiative even when circumstances, objectives, or rules aren't clear.1\",\n",
    " 'Prefer_Open_Discussion_1' : 'Encourage direct and open discussions.1',\n",
    " 'Good_Listener'            : 'Listen carefully to others',\n",
    " 'Unconvincing_Ideas'       : \"Don't persuasively sell a vision or idea\",\n",
    " 'Establish_Cooperation'    : 'Build cooperative relationships',\n",
    " 'Diverse_Cultural'         : 'Work well with people from diverse cultural backgrounds',\n",
    " 'Effectively_Negotiate'    : 'Effectively negotiate interests, resources, and roles',\n",
    " 'Lack_of_Team_Appeal'      : \"Can't rally people on the team around a common goal\",\n",
    " 'Good_Planner'             : 'Translate ideas into plans that are organized and realistic',\n",
    " 'Resolve_Conflicts'        : 'Resolve conflicts constructively',\n",
    " 'Feedback_Oriented'        : 'Seek and use feedback from teammates',\n",
    " 'Team_Coaching'            : 'Coach teammates for performance and growth',\n",
    " 'Result_Oriented'          : 'Drive for results',\n",
    " 'Current_Laptop'           : 'What laptop do you currently have?',\n",
    " 'Future_Laptop'            : 'What laptop would you buy in next assuming if all laptops cost the same?',\n",
    " 'Program'                  : 'What program are you in?',\n",
    " 'Age'                      : 'What is your age?',\n",
    " 'Gender'                   : 'Gender',\n",
    " 'Nationality'              : 'What is your nationality? ',\n",
    " 'Ethnicity'                : 'What is your ethnicity?',\n",
    "}\n",
    "\n",
    "#function get the key of the given value\n",
    "def get_keys(d, value):\n",
    "    return [k for k,v in d.items() if v == value]\n",
    "\n",
    "# change the column name according to dictionary\n",
    "survey.columns =  list(column_name_dictionary.keys())"
   ]
  },
  {
   "cell_type": "code",
   "execution_count": 6,
   "metadata": {},
   "outputs": [],
   "source": [
    "# Fixing nationalities\n",
    "survey['Nationality'] = survey['Nationality'].replace('Brazil', 'Brazilian')\n",
    "survey['Nationality'] = survey['Nationality'].replace('Colombia', 'Colombian')\n",
    "survey['Nationality'] = survey['Nationality'].replace('Congolese (DR CONGO)', 'Congolese')\n",
    "survey['Nationality'] = survey['Nationality'].replace('Czech Republic', 'Czech')\n",
    "survey['Nationality'] = survey['Nationality'].replace('Ecuador', 'Ecuadorian')\n",
    "survey['Nationality'] = survey['Nationality'].replace('Germany', 'German')\n",
    "survey['Nationality'] = survey['Nationality'].replace('INDIAN', 'Indian')\n",
    "survey['Nationality'] = survey['Nationality'].replace('Indonesia', 'Indonesian')\n",
    "survey['Nationality'] = survey['Nationality'].replace('Nigeria', 'Nigerian')\n",
    "survey['Nationality'] = survey['Nationality'].replace('Peru', 'Peruvian')\n",
    "survey['Nationality'] = survey['Nationality'].replace('Russia', 'Russian')\n",
    "survey['Nationality'] = survey['Nationality'].replace('Spain', 'Spanish')\n",
    "survey['Nationality'] = survey['Nationality'].replace('Brazil', 'Brazilian')\n",
    "survey['Nationality'] = survey['Nationality'].replace('Canada', 'Canadian')\n",
    "survey['Nationality'] = survey['Nationality'].replace('canadian', 'Canadian')\n",
    "survey['Nationality'] = survey['Nationality'].replace('CHINA', 'Chinese')\n",
    "survey['Nationality'] = survey['Nationality'].replace('china', 'Chinese')\n",
    "survey['Nationality'] = survey['Nationality'].replace('chinese', 'Chinese')\n",
    "survey['Nationality'] = survey['Nationality'].replace('colombian', 'Colombian')\n",
    "survey['Nationality'] = survey['Nationality'].replace('ecuador', 'Ecuadorian')\n",
    "survey['Nationality'] = survey['Nationality'].replace('indian', 'Indian')\n",
    "survey['Nationality'] = survey['Nationality'].replace('indian.', 'Indian')\n",
    "survey['Nationality'] = survey['Nationality'].replace('italian', 'Italian')\n",
    "survey['Nationality'] = survey['Nationality'].replace('mexican', 'Mexican')\n",
    "survey['Nationality'] = survey['Nationality'].replace('nigerian', 'Nigerian')\n",
    "survey['Nationality'] = survey['Nationality'].replace('China', 'Chinese')\n",
    "survey['Nationality'] = survey['Nationality'].replace('USA', 'American')\n",
    "survey['Nationality'] = survey['Nationality'].replace('Dominican ', 'Dominican')\n",
    " "
   ]
  },
  {
   "cell_type": "code",
   "execution_count": 7,
   "metadata": {},
   "outputs": [],
   "source": [
    "# counting observations for categorical values\n",
    "# Current laptop\n",
    "# use sort_values(ascending=False). to sort in descending order\n",
    "#print(f\"\"\"Current Laptop is: \n",
    "#{survey.loc[:,'Current_Laptop'].value_counts(sort = False).sort_index()}\"\"\")\n",
    "\n",
    "# Next Laptop\n",
    "#print(f\"\"\"\n",
    "#Next Laptop will be a: \n",
    "#{survey.loc[:,'Future_Laptop'].value_counts(sort = False).sort_index()}\"\"\")\n",
    "\n",
    "# Academic Program\n",
    "#print(f\"\"\"\n",
    "#Academic programa is: \n",
    "#{survey.loc[:,'Program'].value_counts(sort = False).sort_index()}\"\"\")\n",
    "\n",
    "# Gender\n",
    "#print(f\"\"\"\n",
    "#Gender is: \n",
    "#{survey.loc[:,'Gender'].value_counts(sort = False).sort_index()}\"\"\")\n",
    "\n",
    "# Nationality\n",
    "#print(f\"\"\"\n",
    "#Nationality is: \n",
    "#{survey.loc[:,'Nationality'].value_counts(sort = False).sort_index()}\"\"\")\n",
    "\n",
    "# Ethnicity\n",
    "#print(f\"\"\"\n",
    "#Ethinicity is: \n",
    "#{survey.loc[:,'Ethnicity'].value_counts(sort = False).sort_index()}\"\"\")"
   ]
  },
  {
   "cell_type": "code",
   "execution_count": 8,
   "metadata": {},
   "outputs": [],
   "source": [
    "# Making Log Transformation for Age\n",
    "survey['log_Age'] = np.log(survey['Age'])"
   ]
  },
  {
   "cell_type": "code",
   "execution_count": 9,
   "metadata": {},
   "outputs": [
    {
     "name": "stdout",
     "output_type": "stream",
     "text": [
      "Index of obs to drop\n"
     ]
    },
    {
     "data": {
      "text/plain": [
       "56    19\n",
       "77    20\n",
       "93    19\n",
       "Name: general_flag, dtype: int64"
      ]
     },
     "execution_count": 9,
     "metadata": {},
     "output_type": "execute_result"
    }
   ],
   "source": [
    "# Analayze of \"paired\" variables  for checking non-valid observations\n",
    "\n",
    "# creating the variable for reverse scales\n",
    "survey['rev_Compassionate']          = 0\n",
    "survey['rev_Beyond_Surface']         = 0\n",
    "survey['rev_Quiet_around_Strangers'] = 0\n",
    "survey['rev_Lack_of_Imagination']    = 0\n",
    "\n",
    "\n",
    "# Reversing the values for those variable with Inverse meaning\n",
    "for index in survey['Compassionate']:\n",
    "    survey['rev_Compassionate']          = 6 - survey['Compassionate']\n",
    "for index in survey['Beyond_Surface']:\n",
    "    survey['rev_Beyond_Surface']         = 6 - survey['Beyond_Surface']\n",
    "for index in survey['Quiet_around_Strangers']:\n",
    "    survey['rev_Quiet_around_Strangers'] = 6 - survey['Quiet_around_Strangers']\n",
    "for index in survey['Lack_of_Imagination']:\n",
    "    survey['rev_Lack_of_Imagination']    = 6 - survey['Lack_of_Imagination']\n",
    "\n",
    "\n",
    "# creating the flag for counting possible incongruences\n",
    "survey['flag_parties']       = abs(survey['Party_Life'] - survey['Party_Talkative'])\n",
    "survey['flag_stress']        = abs(survey['Handle_Stress_Easily'] - survey['Relaxed'])\n",
    "survey['flag_irritations']   = abs(survey['Easily_Irritated'] - survey['Easily_Upset'])\n",
    "survey['flag_feelings']      = abs(survey['Ignore_Others'] - survey['rev_Compassionate'])\n",
    "survey['flag_problems']      = abs(survey['Egocentric'] - survey['Interested_in_Others'])\n",
    "survey['flag_Abstraction']   = abs(survey['Complexity'] - survey['rev_Beyond_Surface'])\n",
    "survey['flag_strangers']     = abs(survey['Accept_Attention'] - survey['rev_Quiet_around_Strangers'])\n",
    "survey['flag_imagination']   = abs(survey['Vivid_Imagination'] - survey['rev_Lack_of_Imagination'])\n",
    "survey['flag_mess']          = abs(survey['Forget_to_return'] - survey['Messed_Up'])\n",
    "survey['flag_Open_Discuss']  = abs(survey['Prefer_Open_Discussion']  - survey['Prefer_Open_Discussion_1'])\n",
    "survey['flag_Respond_Eff']   = abs(survey['Respond_Effectively']  - survey['Respond_Effectively_1'])\n",
    "survey['flag_Blind_Action']  = abs(survey['Blind_Action']  - survey['Blind_Action_1'])\n",
    "\n",
    "\n",
    "# calculating a general flag\n",
    "survey['general_flag'] = (survey['flag_parties'] +\n",
    "                         survey['flag_stress'] +\n",
    "                         survey['flag_irritations'] +\n",
    "                         survey['flag_feelings'] +\n",
    "                         survey['flag_problems'] +\n",
    "                         survey['flag_Abstraction'] +\n",
    "                         survey['flag_strangers'] +\n",
    "                         survey['flag_imagination'] +\n",
    "                         survey['flag_mess'] +\n",
    "                         survey['flag_Open_Discuss'] + \n",
    "                         survey['flag_Respond_Eff'] +\n",
    "                         survey['flag_Blind_Action']) \n",
    "\n",
    "# Calculating interquartile range for general flag\n",
    "q3 = survey['general_flag'].quantile(0.75)\n",
    "q1 = survey['general_flag'].quantile(0.25)\n",
    "IQR = q3 - q1\n",
    "\n",
    "# Calculating compulsory limits of Interquartile Range(IQR) Method\n",
    "Upper_compulsory_limit = round(q3 + 1.5*IQR, 2)\n",
    "\n",
    "# Cheking observations that has a general flag as an outlier\n",
    "print(\"Index of obs to drop\")\n",
    "survey['general_flag'][survey['general_flag'] > Upper_compulsory_limit]"
   ]
  },
  {
   "cell_type": "code",
   "execution_count": 10,
   "metadata": {},
   "outputs": [],
   "source": [
    "#Dropping the observations with non-trusted answers\n",
    "survey = survey.drop(survey.index[56])\n",
    "survey = survey.drop(survey.index[77])\n",
    "survey = survey.drop(survey.index[93])"
   ]
  },
  {
   "cell_type": "code",
   "execution_count": 11,
   "metadata": {},
   "outputs": [],
   "source": [
    "# saving the checked dataframe into a new file\n",
    "\n",
    "# converting model_performance into a DataFrame\n",
    "survey = pd.DataFrame(survey)\n",
    "\n",
    "# sending model results to Excel\n",
    "survey.to_excel('datasets./checked_survey.xlsx',\n",
    "                           index = False)"
   ]
  },
  {
   "cell_type": "code",
   "execution_count": 12,
   "metadata": {},
   "outputs": [],
   "source": [
    "# reading and preparing a new dataframe with the checked survey for PCA\n",
    "\n",
    "# reading the dataframe for regression\n",
    "file ='datasets./checked_survey.xlsx'\n",
    "df_survey = pd.read_excel(io = file)\n",
    "\n",
    "# dropping demographic, flags and non-required features\n",
    "df_survey = df_survey.drop(['SurveyID', 'log_Age', 'Gender','Nationality',\n",
    "                            'Ethnicity', 'Current_Laptop',\n",
    "                            'Future_Laptop', 'Program',\n",
    "                            'rev_Compassionate', 'rev_Beyond_Surface',\n",
    "                            'rev_Quiet_around_Strangers',\n",
    "                            'rev_Lack_of_Imagination', 'flag_parties',\n",
    "                            'flag_stress', 'flag_irritations',\n",
    "                            'flag_feelings', 'flag_problems',\n",
    "                            'flag_Abstraction', 'flag_strangers',\n",
    "                            'flag_imagination', 'flag_mess', 'flag_Open_Discuss',\n",
    "                            'flag_Respond_Eff', 'flag_Blind_Action', \n",
    "                            'Respond_Effectively_1', 'Blind_Action_1',\n",
    "                            'Prefer_Open_Discussion_1','general_flag',],\n",
    "                            axis = 1)\n"
   ]
  },
  {
   "cell_type": "code",
   "execution_count": 13,
   "metadata": {},
   "outputs": [],
   "source": [
    "# creating a dictionary for big five personality test\n",
    "\n",
    "five_per_dictionary = {\n",
    "    'Extroversion':\n",
    "         ['Party_Life', 'Not_Talkative', 'Social', 'Being_Behind', 'Conversation_Starter', \n",
    "          'Talk_Less', 'Party_Talkative', 'Unfocused', 'Accept_Attention', \n",
    "          'Quiet_around_Strangers'],\n",
    "    \n",
    "    'Agreeableness':\n",
    "        ['Ignore_Others', 'People_Cared', 'Insult', 'Compassionate', 'Egocentric', \n",
    "         'Soft_Hearted', 'Interested_in_Others',\n",
    "        'Serving_Others', 'Empathy', 'Reliable'],\n",
    "\n",
    "    'Conscientiousness':\n",
    "        ['Well_Prepared', 'Territory_Awareness', 'Detail_Oriented', 'Messed_Up', 'Act_Now', \n",
    "        'Forget_to_return', 'Ordered', 'Shirk_Duties', 'Scheduled', 'Passion_on_Work'],\n",
    "    \n",
    "    'Neuroticism':\n",
    "        ['Handle_Stress_Easily', 'Relaxed', 'Worried', 'Seldom_Depressed', 'Easily_Disturbed',\n",
    "        'Easily_Upset', 'Sensitive', 'Emotion_Unstabled', 'Easily_Irritated', 'Often_Depressed'],\n",
    "    \n",
    "    'Openness':\n",
    "        ['Rich_Vocabulary', 'Complexity', 'Vivid_Imagination', 'Non_abstract_Oriented', 'Innovative',\n",
    "        'Lack_of_Imagination', 'Quickly_Understand', 'Difficult_Words', 'Think_Deeply', 'Full_of_Ideas']\n",
    "}"
   ]
  },
  {
   "cell_type": "code",
   "execution_count": 14,
   "metadata": {},
   "outputs": [],
   "source": [
    "#Calculating the Big 5 personalities score from the questions\n",
    "df_survey['Extroversion'] = 20 + (df_survey['Party_Life'] - df_survey['Not_Talkative'] + df_survey['Social'] -\n",
    "                            df_survey['Being_Behind'] + df_survey['Conversation_Starter'] -\n",
    "                            df_survey['Talk_Less'] + df_survey['Party_Talkative'] -\n",
    "                            df_survey['Unfocused'] + df_survey['Accept_Attention'] -\n",
    "                            df_survey['Quiet_around_Strangers'])\n",
    "\n",
    "df_survey['Agreeableness'] = 14 - (df_survey['Ignore_Others'] + df_survey['People_Cared'] - df_survey['Insult'] + \n",
    "                            df_survey['Compassionate'] - df_survey['Egocentric'] + df_survey['Soft_Hearted'] - \n",
    "                            df_survey['Interested_in_Others'] + df_survey['Serving_Others'] + df_survey['Empathy'] + \n",
    "                            df_survey['Reliable'])\n",
    "\n",
    "df_survey['Conscientiousness'] = 14 + (df_survey['Well_Prepared'] - df_survey['Territory_Awareness'] + \n",
    "                                df_survey['Detail_Oriented'] - df_survey['Messed_Up'] + df_survey['Act_Now'] - \n",
    "                                df_survey['Forget_to_return'] + df_survey['Ordered'] - df_survey['Shirk_Duties'] + \n",
    "                                df_survey['Scheduled'] + df_survey['Passion_on_Work'])\n",
    "\n",
    "df_survey['Neuroticism'] = 38 - (df_survey['Handle_Stress_Easily'] + df_survey['Relaxed'] - df_survey['Worried'] + \n",
    "                            df_survey['Seldom_Depressed'] - df_survey['Easily_Disturbed'] - df_survey['Easily_Upset'] - \n",
    "                            df_survey['Sensitive'] - df_survey['Emotion_Unstabled'] - df_survey['Easily_Irritated'] - \n",
    "                            df_survey['Often_Depressed'])\n",
    "\n",
    "df_survey['Openness'] = 8 + (df_survey['Rich_Vocabulary'] - df_survey['Complexity'] + df_survey['Vivid_Imagination'] - \n",
    "                        df_survey['Non_abstract_Oriented'] + df_survey['Innovative'] - df_survey['Lack_of_Imagination'] + \n",
    "                        df_survey['Quickly_Understand'] + df_survey['Difficult_Words'] + df_survey['Think_Deeply'] + \n",
    "                        df_survey['Full_of_Ideas'])"
   ]
  },
  {
   "cell_type": "code",
   "execution_count": 15,
   "metadata": {},
   "outputs": [],
   "source": [
    "#Calculating the Hult DNA score from the questions \n",
    "\n",
    "#accoring to the HULT leadship model\n",
    "HULT_DNA_dictionary = {            \n",
    "\n",
    "    #thinking\n",
    "    'Thinking_P':\n",
    "                ['Show_Self_Awareness',     #highly-developed\n",
    "                'Show_Growth_Mindset',      #Developed\n",
    "                'Beyond_Surface',           #highly-developed\n",
    "                 'Good_Planner' ],     #Developed\n",
    "    \n",
    "    'Thinking_N':\n",
    "                [\"Stubborn\",      #Under-developed\n",
    "                \"Blind_Action\",  #Under-developed\n",
    "                ],\n",
    "    \n",
    "    #communicating\n",
    "    'Communicating_P':\n",
    "                ['Good_Listener', #Developed\n",
    "                 'Effectively_Negotiate', #Developed\n",
    "                 'Respond_Effectively', #Under-developed\n",
    "                 'Result_Oriented'], \n",
    "    \n",
    "    'Communicating_N':\n",
    "                [\"Unconvincing_Ideas\"], #Under-developed\n",
    "    \n",
    "    #Team building\n",
    "    'Team_Building_P':\n",
    "                ['Diverse_Cultural', #highly-developed\n",
    "                'Resolve_Conflicts', #developed\n",
    "                'Prefer_Open_Discussion', #developed\n",
    "                'Feedback_Oriented', #highly-developed\n",
    "                'Establish_Cooperation', #developed\n",
    "                'Team_Coaching'], #highly-developed\n",
    "    \n",
    "    'Team_Building_N':\n",
    "                [\"Lack_of_Team_Appeal\"]   #Under-developed\n",
    "    \n",
    " \n",
    "}"
   ]
  },
  {
   "cell_type": "code",
   "execution_count": 16,
   "metadata": {},
   "outputs": [],
   "source": [
    "#initiate column\n",
    "for col in list(HULT_DNA_dictionary.keys()):\n",
    "    df_survey[col] = 0 \n",
    "    #check the col process\n",
    "\n",
    "    \n",
    "    #calculate the value by sum/average method\n",
    "    for sub_col in HULT_DNA_dictionary[col] : \n",
    "        if sub_col == None:\n",
    "            df_survey[col] += 0\n",
    "        else:\n",
    "            #sum function\n",
    "            df_survey[col] += df_survey[sub_col]\n",
    "            \n",
    "            #check the subcol process\n",
    "\n",
    "            \n",
    "#merge column\n",
    "df_survey['HULT_Thinking']      = df_survey['Thinking_P']- df_survey['Thinking_N']\n",
    "\n",
    "df_survey['HULT_Communicating'] = df_survey['Communicating_P']- df_survey['Communicating_N']\n",
    "\n",
    "df_survey['HULT_Team_Building'] = df_survey['Team_Building_P']-df_survey['Team_Building_N']\n",
    "\n",
    "#list\n",
    "HULT_DNA_list = ['HULT_Thinking',\n",
    "            'HULT_Communicating',\n",
    "            'HULT_Team_Building']"
   ]
  },
  {
   "cell_type": "code",
   "execution_count": 17,
   "metadata": {},
   "outputs": [],
   "source": [
    "#Preparing the dataset for PCA analysis\n",
    " \n",
    "df_survey = df_survey.drop(['Party_Life', 'Ignore_Others', 'Well_Prepared', 'Handle_Stress_Easily', 'Rich_Vocabulary', \n",
    "                            'Not_Talkative', 'People_Cared', 'Territory_Awareness', 'Relaxed', 'Complexity', 'Social', \n",
    "                            'Insult', 'Detail_Oriented', 'Worried', 'Vivid_Imagination', 'Being_Behind', 'Compassionate', 'Messed_Up', 'Seldom_Depressed', 'Non_abstract_Oriented', 'Conversation_Starter', 'Egocentric', 'Act_Now', 'Easily_Disturbed', 'Innovative', 'Talk_Less', 'Soft_Hearted', 'Forget_to_return', 'Easily_Upset', 'Lack_of_Imagination', 'Party_Talkative', 'Interested_in_Others', 'Ordered', 'Sensitive', 'Quickly_Understand', 'Unfocused', 'Serving_Others', 'Shirk_Duties', 'Emotion_Unstabled', 'Difficult_Words', 'Accept_Attention', 'Empathy', 'Scheduled', 'Easily_Irritated', 'Think_Deeply', 'Quiet_around_Strangers', 'Reliable', 'Passion_on_Work', 'Often_Depressed', 'Full_of_Ideas', 'Beyond_Surface', 'Stubborn', 'Show_Self_Awareness', 'Show_Growth_Mindset', 'Respond_Effectively', 'Blind_Action',\n",
    "                            'Prefer_Open_Discussion', 'Good_Listener', 'Unconvincing_Ideas', 'Establish_Cooperation', \n",
    "                            'Diverse_Cultural', 'Effectively_Negotiate', 'Lack_of_Team_Appeal', 'Good_Planner', \n",
    "                            'Resolve_Conflicts', 'Feedback_Oriented', 'Team_Coaching', 'Result_Oriented', 'Age',\n",
    "                            'Thinking_P', 'Thinking_N', 'Communicating_P', 'Communicating_N', 'Team_Building_P',\n",
    "                            'Team_Building_N'],\n",
    "                            axis = 1)"
   ]
  },
  {
   "cell_type": "code",
   "execution_count": 18,
   "metadata": {},
   "outputs": [],
   "source": [
    "# Scaling the variables\n",
    "\n",
    "# INSTANTIATING a StandardScaler() object\n",
    "scaler = StandardScaler()\n",
    "\n",
    "# FITTING the scaler with the data\n",
    "scaler.fit(df_survey)\n",
    "\n",
    "# TRANSFORMING our data after fit\n",
    "X_scaled = scaler.transform(df_survey)\n",
    "\n",
    "# converting scaled data into a DataFrame\n",
    "df_survey_scaled = pd.DataFrame(X_scaled)\n",
    "\n",
    "# reattaching column names\n",
    "df_survey_scaled.columns = df_survey.columns\n",
    "\n",
    "# checking pre- and post-scaling variance\n",
    "#print(pd.np.var(df_survey), '\\n\\n')\n",
    "#print(pd.np.var(df_survey_scaled))"
   ]
  },
  {
   "cell_type": "markdown",
   "metadata": {},
   "source": [
    "<strong>1.3 PRINCIPAL COMPONENT ANALYSIS <strong>"
   ]
  },
  {
   "cell_type": "code",
   "execution_count": 19,
   "metadata": {},
   "outputs": [],
   "source": [
    "# Principal Component Analysis\n",
    "\n",
    "# INSTANTIATING a PCA object with no limit to principal components\n",
    "pca = PCA(n_components = None,\n",
    "            random_state = 802)\n",
    "\n",
    "\n",
    "# FITTING and TRANSFORMING the scaled data\n",
    "df_survey_pca = pca.fit_transform(df_survey_scaled)\n",
    "\n",
    "\n",
    "# comparing dimensions of each DataFrame\n",
    "#print(\"Original shape:\", df_survey_scaled.shape)\n",
    "#print(\"PCA shape     :\",  df_survey_pca.shape)"
   ]
  },
  {
   "cell_type": "code",
   "execution_count": 20,
   "metadata": {},
   "outputs": [
    {
     "name": "stdout",
     "output_type": "stream",
     "text": [
      "[0.426 0.128 0.121 0.099 0.08  0.06  0.056 0.03 ]\n",
      "0.85\n"
     ]
    }
   ],
   "source": [
    "# printing the sum of all explained variance ratios\n",
    "print(pca.explained_variance_ratio_.round(3))\n",
    "\n",
    "#printing the sum of 5 features\n",
    "print(pca.explained_variance_ratio_[:5].sum().round(2))"
   ]
  },
  {
   "cell_type": "code",
   "execution_count": 21,
   "metadata": {},
   "outputs": [
    {
     "data": {
      "image/png": "[encoded data removed]",
      "text/plain": [
       "<Figure size 720x576 with 1 Axes>"
      ]
     },
     "metadata": {
      "needs_background": "light"
     },
     "output_type": "display_data"
    }
   ],
   "source": [
    "# Components chosen\n",
    "\n",
    "# INSTANTIATING a new model using the first three principal components\n",
    "pca_7 = PCA(n_components = 5,\n",
    "            random_state = 802)\n",
    "\n",
    "\n",
    "# FITTING and TRANSFORMING the purchases_scaled\n",
    "survey_pca_7 = pca_7.fit_transform(df_survey_scaled)\n",
    "\n",
    "\n",
    "#Calling the scree_plot function\n",
    "scree_plot(pca_object = pca_7)"
   ]
  },
  {
   "cell_type": "markdown",
   "metadata": {},
   "source": [
    "We are choosing 5 components as these components explained roughly 85% of the spread in the data points (observations). "
   ]
  },
  {
   "cell_type": "code",
   "execution_count": 22,
   "metadata": {},
   "outputs": [
    {
     "name": "stderr",
     "output_type": "stream",
     "text": [
      "<ipython-input-22-ef1129ad626a>:2: FutureWarning: The pandas.np module is deprecated and will be removed from pandas in a future version. Import numpy directly instead\n",
      "  factor_loadings_df = pd.DataFrame(pd.np.transpose(pca_7.components_))\n"
     ]
    }
   ],
   "source": [
    "# transposing pca components\n",
    "factor_loadings_df = pd.DataFrame(pd.np.transpose(pca_7.components_))\n",
    "\n",
    "\n",
    "# naming rows as original features\n",
    "factor_loadings_df = factor_loadings_df.set_index(df_survey_scaled.columns)\n",
    "\n",
    "\n",
    "# checking the result\n",
    "pd.DataFrame(factor_loadings_df)\n",
    "check_factors = pd.DataFrame(factor_loadings_df)\n",
    "\n",
    "# sending model results to Excel\n",
    "check_factors.to_excel('./survey_factor_full.xlsx',\n",
    "                           index = False)"
   ]
  },
  {
   "cell_type": "code",
   "execution_count": 23,
   "metadata": {
    "cell_style": "split"
   },
   "outputs": [],
   "source": [
    "# checking the varirables more related C1\n",
    "#check_factors[0].sort_values(ascending=True).head(n=10)"
   ]
  },
  {
   "cell_type": "code",
   "execution_count": 24,
   "metadata": {
    "cell_style": "split"
   },
   "outputs": [],
   "source": [
    "# checking the varirables more related C2\n",
    "#check_factors[1].sort_values(ascending=True).head(n=10)"
   ]
  },
  {
   "cell_type": "code",
   "execution_count": 25,
   "metadata": {
    "cell_style": "split"
   },
   "outputs": [],
   "source": [
    "# checking the varirables more related C3\n",
    "#check_factors[2].sort_values(ascending=True).head(n=10)"
   ]
  },
  {
   "cell_type": "code",
   "execution_count": 26,
   "metadata": {
    "cell_style": "split"
   },
   "outputs": [],
   "source": [
    "# checking the varirables more related C4\n",
    "#check_factors[3].sort_values(ascending=True).head(n=10)"
   ]
  },
  {
   "cell_type": "code",
   "execution_count": 27,
   "metadata": {
    "cell_style": "split"
   },
   "outputs": [],
   "source": [
    "# checking the varirables more related C5\n",
    "#check_factors[4].sort_values(ascending=True).head(n=10)"
   ]
  },
  {
   "cell_type": "code",
   "execution_count": 28,
   "metadata": {},
   "outputs": [
    {
     "data": {
      "text/html": [
       "<div>\n",
       "<style scoped>\n",
       "    .dataframe tbody tr th:only-of-type {\n",
       "        vertical-align: middle;\n",
       "    }\n",
       "\n",
       "    .dataframe tbody tr th {\n",
       "        vertical-align: top;\n",
       "    }\n",
       "\n",
       "    .dataframe thead th {\n",
       "        text-align: right;\n",
       "    }\n",
       "</style>\n",
       "<table border=\"1\" class=\"dataframe\">\n",
       "  <thead>\n",
       "    <tr style=\"text-align: right;\">\n",
       "      <th></th>\n",
       "      <th>Follower</th>\n",
       "      <th>Founder</th>\n",
       "      <th>Commercial</th>\n",
       "      <th>Manager</th>\n",
       "      <th>CFO</th>\n",
       "    </tr>\n",
       "  </thead>\n",
       "  <tbody>\n",
       "    <tr>\n",
       "      <th>Extroversion</th>\n",
       "      <td>0.22</td>\n",
       "      <td>0.41</td>\n",
       "      <td>-0.70</td>\n",
       "      <td>-0.36</td>\n",
       "      <td>-0.28</td>\n",
       "    </tr>\n",
       "    <tr>\n",
       "      <th>Agreeableness</th>\n",
       "      <td>-0.31</td>\n",
       "      <td>-0.27</td>\n",
       "      <td>0.14</td>\n",
       "      <td>-0.73</td>\n",
       "      <td>-0.37</td>\n",
       "    </tr>\n",
       "    <tr>\n",
       "      <th>Conscientiousness</th>\n",
       "      <td>0.34</td>\n",
       "      <td>-0.46</td>\n",
       "      <td>0.17</td>\n",
       "      <td>0.09</td>\n",
       "      <td>-0.58</td>\n",
       "    </tr>\n",
       "    <tr>\n",
       "      <th>Neuroticism</th>\n",
       "      <td>-0.16</td>\n",
       "      <td>0.70</td>\n",
       "      <td>0.57</td>\n",
       "      <td>0.01</td>\n",
       "      <td>-0.35</td>\n",
       "    </tr>\n",
       "    <tr>\n",
       "      <th>Openness</th>\n",
       "      <td>0.36</td>\n",
       "      <td>0.13</td>\n",
       "      <td>0.22</td>\n",
       "      <td>-0.49</td>\n",
       "      <td>0.45</td>\n",
       "    </tr>\n",
       "    <tr>\n",
       "      <th>HULT_Thinking</th>\n",
       "      <td>0.39</td>\n",
       "      <td>-0.11</td>\n",
       "      <td>0.29</td>\n",
       "      <td>-0.25</td>\n",
       "      <td>0.25</td>\n",
       "    </tr>\n",
       "    <tr>\n",
       "      <th>HULT_Communicating</th>\n",
       "      <td>0.47</td>\n",
       "      <td>0.07</td>\n",
       "      <td>0.05</td>\n",
       "      <td>0.06</td>\n",
       "      <td>-0.21</td>\n",
       "    </tr>\n",
       "    <tr>\n",
       "      <th>HULT_Team_Building</th>\n",
       "      <td>0.45</td>\n",
       "      <td>0.13</td>\n",
       "      <td>0.02</td>\n",
       "      <td>0.15</td>\n",
       "      <td>-0.16</td>\n",
       "    </tr>\n",
       "  </tbody>\n",
       "</table>\n",
       "</div>"
      ],
      "text/plain": [
       "                    Follower  Founder  Commercial  Manager   CFO\n",
       "Extroversion            0.22     0.41       -0.70    -0.36 -0.28\n",
       "Agreeableness          -0.31    -0.27        0.14    -0.73 -0.37\n",
       "Conscientiousness       0.34    -0.46        0.17     0.09 -0.58\n",
       "Neuroticism            -0.16     0.70        0.57     0.01 -0.35\n",
       "Openness                0.36     0.13        0.22    -0.49  0.45\n",
       "HULT_Thinking           0.39    -0.11        0.29    -0.25  0.25\n",
       "HULT_Communicating      0.47     0.07        0.05     0.06 -0.21\n",
       "HULT_Team_Building      0.45     0.13        0.02     0.15 -0.16"
      ]
     },
     "execution_count": 28,
     "metadata": {},
     "output_type": "execute_result"
    }
   ],
   "source": [
    "# naming each principal component\n",
    "factor_loadings_df.columns = ['Follower',                 \n",
    "                              'Founder',         \n",
    "                              'Commercial', \n",
    "                              'Manager',            \n",
    "                              'CFO']         \n",
    "\n",
    "\n",
    "# checking the result\n",
    "factor_loadings_df.round(2)"
   ]
  },
  {
   "cell_type": "code",
   "execution_count": 29,
   "metadata": {},
   "outputs": [],
   "source": [
    "# converting into a DataFrame \n",
    "survey_pca = pd.DataFrame(survey_pca_7)\n",
    "\n",
    "\n",
    "# renaming columns\n",
    "survey_pca.columns = factor_loadings_df.columns\n",
    "\n",
    "\n",
    "# checking results\n",
    "#survey_pca"
   ]
  },
  {
   "cell_type": "code",
   "execution_count": 30,
   "metadata": {},
   "outputs": [
    {
     "name": "stdout",
     "output_type": "stream",
     "text": [
      "Follower      3.408385\n",
      "Founder       1.026851\n",
      "Commercial    0.964452\n",
      "Manager       0.795071\n",
      "CFO           0.643539\n",
      "dtype: float64 \n",
      "\n",
      "\n",
      "Follower      1.0\n",
      "Founder       1.0\n",
      "Commercial    1.0\n",
      "Manager       1.0\n",
      "CFO           1.0\n",
      "dtype: float64\n"
     ]
    },
    {
     "name": "stderr",
     "output_type": "stream",
     "text": [
      "<ipython-input-30-7d2565fc1293>:31: FutureWarning: The pandas.np module is deprecated and will be removed from pandas in a future version. Import numpy directly instead\n",
      "  print(pd.np.var(survey_pca), '\\n\\n')\n",
      "<ipython-input-30-7d2565fc1293>:32: FutureWarning: The pandas.np module is deprecated and will be removed from pandas in a future version. Import numpy directly instead\n",
      "  print(pd.np.var(pca_scaled))\n"
     ]
    }
   ],
   "source": [
    "# Re-scaling the components for clustering\n",
    "\n",
    "# checking variance amongst clusters\n",
    "np.var(survey_pca)\n",
    "\n",
    "# INSTANTIATING a StandardScaler() object\n",
    "scaler = StandardScaler()\n",
    "\n",
    "\n",
    "# FITTING the scaler with the data\n",
    "scaler.fit(survey_pca)\n",
    "\n",
    "\n",
    "# TRANSFORMING our data after fit\n",
    "X_scaled_pca = scaler.transform(survey_pca)\n",
    "\n",
    "\n",
    "# converting scaled data into a DataFrame\n",
    "pca_scaled = pd.DataFrame(X_scaled_pca)\n",
    "\n",
    "\n",
    "# reattaching column names\n",
    "pca_scaled.columns = ['Follower',                 \n",
    "                      'Founder',         \n",
    "                      'Commercial', \n",
    "                      'Manager',            \n",
    "                      'CFO'] \n",
    "\n",
    "\n",
    "# checking pre- and post-scaling variance\n",
    "print(pd.np.var(survey_pca), '\\n\\n')\n",
    "print(pd.np.var(pca_scaled))"
   ]
  },
  {
   "cell_type": "markdown",
   "metadata": {},
   "source": [
    "<strong> 1.4 CLUSTERING <strong>"
   ]
  },
  {
   "cell_type": "code",
   "execution_count": 31,
   "metadata": {},
   "outputs": [
    {
     "data": {
      "image/png": "[encoded data removed]",
      "text/plain": [
       "<Figure size 864x864 with 1 Axes>"
      ]
     },
     "metadata": {
      "needs_background": "light"
     },
     "output_type": "display_data"
    }
   ],
   "source": [
    "# grouping data based on Ward distance\n",
    "standard_mergings_ward = linkage(y = pca_scaled,\n",
    "                                 method = 'ward',\n",
    "                                 optimal_ordering = True)\n",
    "\n",
    "\n",
    "# setting plot size\n",
    "fig, ax = plt.subplots(figsize=(12, 12))\n",
    "\n",
    "# developing a dendrogram\n",
    "dendrogram(Z = standard_mergings_ward,\n",
    "           leaf_rotation = 90,\n",
    "           leaf_font_size = 6)\n",
    "\n",
    "\n",
    "# saving and displaying the plot\n",
    "plt.savefig('./standard_hierarchical_clust_ward.png')\n",
    "plt.show()"
   ]
  },
  {
   "cell_type": "markdown",
   "metadata": {},
   "source": [
    "This chart shows us in how many groups we can cluster our data based on the PCA analysis. "
   ]
  },
  {
   "cell_type": "code",
   "execution_count": 32,
   "metadata": {},
   "outputs": [
    {
     "data": {
      "image/png": "[encoded data removed]",
      "text/plain": [
       "<Figure size 864x576 with 1 Axes>"
      ]
     },
     "metadata": {
      "needs_background": "light"
     },
     "output_type": "display_data"
    }
   ],
   "source": [
    "# calling the inertia_plot() function\n",
    "interia_plot(data = pca_scaled)"
   ]
  },
  {
   "cell_type": "markdown",
   "metadata": {},
   "source": [
    "Based on this graph we have decided to choose 5 clusters as the difference of explained ratio doesn't decrease as much between 5th and 6th component as it did before.  "
   ]
  },
  {
   "cell_type": "code",
   "execution_count": 33,
   "metadata": {},
   "outputs": [
    {
     "name": "stdout",
     "output_type": "stream",
     "text": [
      "Number of cluster with sample size \n",
      "2    42\n",
      "4    27\n",
      "3    25\n",
      "1    23\n",
      "0    17\n",
      "Name: Cluster, dtype: int64\n"
     ]
    }
   ],
   "source": [
    "# INSTANTIATING a k-Means object with clusters\n",
    "survey_k_pca = KMeans(n_clusters   = 5,\n",
    "                         random_state = 219)\n",
    "\n",
    "\n",
    "# fitting the object to the data\n",
    "survey_k_pca.fit(pca_scaled)\n",
    "\n",
    "\n",
    "# converting the clusters to a DataFrame\n",
    "survey_kmeans_pca = pd.DataFrame({'Cluster': survey_k_pca.labels_})\n",
    "\n",
    "\n",
    "# checking the results\n",
    "print(f\"\"\"Number of cluster with sample size \\n{survey_kmeans_pca.iloc[: , 0].value_counts()}\"\"\")"
   ]
  },
  {
   "cell_type": "code",
   "execution_count": 34,
   "metadata": {},
   "outputs": [
    {
     "data": {
      "text/html": [
       "<div>\n",
       "<style scoped>\n",
       "    .dataframe tbody tr th:only-of-type {\n",
       "        vertical-align: middle;\n",
       "    }\n",
       "\n",
       "    .dataframe tbody tr th {\n",
       "        vertical-align: top;\n",
       "    }\n",
       "\n",
       "    .dataframe thead th {\n",
       "        text-align: right;\n",
       "    }\n",
       "</style>\n",
       "<table border=\"1\" class=\"dataframe\">\n",
       "  <thead>\n",
       "    <tr style=\"text-align: right;\">\n",
       "      <th></th>\n",
       "      <th>Follower</th>\n",
       "      <th>Founder</th>\n",
       "      <th>Commercial</th>\n",
       "      <th>Manager</th>\n",
       "      <th>CFO</th>\n",
       "    </tr>\n",
       "  </thead>\n",
       "  <tbody>\n",
       "    <tr>\n",
       "      <th>0</th>\n",
       "      <td>0.04</td>\n",
       "      <td>0.33</td>\n",
       "      <td>0.05</td>\n",
       "      <td>-1.54</td>\n",
       "      <td>-0.76</td>\n",
       "    </tr>\n",
       "    <tr>\n",
       "      <th>1</th>\n",
       "      <td>-1.09</td>\n",
       "      <td>-0.49</td>\n",
       "      <td>0.18</td>\n",
       "      <td>-0.37</td>\n",
       "      <td>0.85</td>\n",
       "    </tr>\n",
       "    <tr>\n",
       "      <th>2</th>\n",
       "      <td>0.47</td>\n",
       "      <td>-0.76</td>\n",
       "      <td>-0.05</td>\n",
       "      <td>0.37</td>\n",
       "      <td>-0.48</td>\n",
       "    </tr>\n",
       "    <tr>\n",
       "      <th>3</th>\n",
       "      <td>0.55</td>\n",
       "      <td>0.47</td>\n",
       "      <td>-1.04</td>\n",
       "      <td>-0.01</td>\n",
       "      <td>0.57</td>\n",
       "    </tr>\n",
       "    <tr>\n",
       "      <th>4</th>\n",
       "      <td>-0.35</td>\n",
       "      <td>0.95</td>\n",
       "      <td>0.86</td>\n",
       "      <td>0.71</td>\n",
       "      <td>-0.02</td>\n",
       "    </tr>\n",
       "  </tbody>\n",
       "</table>\n",
       "</div>"
      ],
      "text/plain": [
       "   Follower  Founder  Commercial  Manager   CFO\n",
       "0      0.04     0.33        0.05    -1.54 -0.76\n",
       "1     -1.09    -0.49        0.18    -0.37  0.85\n",
       "2      0.47    -0.76       -0.05     0.37 -0.48\n",
       "3      0.55     0.47       -1.04    -0.01  0.57\n",
       "4     -0.35     0.95        0.86     0.71 -0.02"
      ]
     },
     "execution_count": 34,
     "metadata": {},
     "output_type": "execute_result"
    }
   ],
   "source": [
    "# storing cluster centers\n",
    "centroids_pca = survey_k_pca.cluster_centers_\n",
    "\n",
    "\n",
    "# converting cluster centers into a DataFrame\n",
    "centroids_pca_df = pd.DataFrame(centroids_pca)\n",
    "\n",
    "\n",
    "# renaming principal components\n",
    "centroids_pca_df.columns = ['Follower',                 \n",
    "                            'Founder',         \n",
    "                            'Commercial', \n",
    "                            'Manager',            \n",
    "                            'CFO'] \n",
    "\n",
    "# checking results (clusters = rows, pc = columns)\n",
    "centroids_pca_df.round(2)"
   ]
  },
  {
   "cell_type": "code",
   "execution_count": 35,
   "metadata": {},
   "outputs": [],
   "source": [
    "# Concatenating with the dataframe\n",
    "\n",
    "# concatenating cluster survey with principal components\n",
    "clst_pca_df = pd.concat([survey_kmeans_pca,\n",
    "                         survey_pca],\n",
    "                         axis = 1)\n",
    "\n",
    "\n",
    "# checking results\n",
    "clst_pca_df\n",
    "\n",
    "\n",
    "# concatenating demographic information with pca-clusters\n",
    "final_pca_clust_df = pd.concat([survey.loc[ : , ['Gender','Nationality',\n",
    "                                                    'Ethnicity', 'Current_Laptop',\n",
    "                                                    'Future_Laptop', 'Program', 'Age' \n",
    "                                ]],\n",
    "                                clst_pca_df],\n",
    "                                axis = 1)\n",
    "\n",
    "\n",
    "# renaming columns\n",
    "final_pca_clust_df.columns = ['Gender','Nationality',\n",
    "                              'Ethnicity', 'Current_Laptop',\n",
    "                              'Future_Laptop', 'Program', 'Age',\n",
    "                              'Cluster', 'Follower','Founder',         \n",
    "                              'Commercial', 'Manager', 'CFO'\n",
    "                             ]\n",
    "\n",
    "\n",
    "# checking the results\n",
    "#print(final_pca_clust_df.head(n = 5))\n",
    "\n",
    "data_df = pd.DataFrame(final_pca_clust_df)\n",
    "#data_df.head(10)"
   ]
  },
  {
   "cell_type": "markdown",
   "metadata": {},
   "source": [
    "<strong> 1.5 INSIGHTS AND RECOMMENDATIONS <strong>"
   ]
  },
  {
   "cell_type": "code",
   "execution_count": 36,
   "metadata": {},
   "outputs": [
    {
     "data": {
      "image/png": "[encoded data removed]",
      "text/plain": [
       "<Figure size 864x576 with 1 Axes>"
      ]
     },
     "metadata": {
      "needs_background": "light"
     },
     "output_type": "display_data"
    },
    {
     "data": {
      "image/png": "[encoded data removed]",
      "text/plain": [
       "<Figure size 864x576 with 1 Axes>"
      ]
     },
     "metadata": {
      "needs_background": "light"
     },
     "output_type": "display_data"
    }
   ],
   "source": [
    "########################\n",
    "# Current Computer\n",
    "########################\n",
    "\n",
    "# Follower \n",
    "fig, ax = plt.subplots(figsize = (12, 8))\n",
    "sns.boxplot(x = 'Current_Laptop',\n",
    "            y = 'Follower',\n",
    "            hue = 'Cluster',\n",
    "            data = data_df)\n",
    "\n",
    "\n",
    "# formatting and displaying the plot\n",
    "plt.tight_layout()\n",
    "plt.show()\n",
    "\n",
    "########################\n",
    "# Future Computer\n",
    "########################\n",
    "\n",
    "# Follower\n",
    "fig, ax = plt.subplots(figsize = (12, 8))\n",
    "sns.boxplot(x = 'Future_Laptop',\n",
    "            y = 'Follower',\n",
    "            hue = 'Cluster',\n",
    "            data = data_df)\n",
    "\n",
    "\n",
    "# formatting and displaying the plot\n",
    "plt.tight_layout()\n",
    "plt.show()"
   ]
  },
  {
   "cell_type": "markdown",
   "metadata": {},
   "source": [
    "We see a difference in the medians of the boxplots oranges. For Macbook users, the median is highly negative while for Windows users it is closer to 0. The segment of people who strongly do not have the follower trait in orange cluster have grown although these are more likely to purchase a Windows pc. A deeper analysis of this trend will help in the promotional strategy. \n",
    "\n",
    "Secondly, we can see that the medians for boxplots Green and Red Cluster are slightly positive for Macbook but their are higher for Windows. \n",
    "\n",
    "\n",
    "For the cluster 3 (Red) even though we see a larger base of users for Macbook than Windows, the lower median highlights that the users cannot or are not willing to pay a lot of money for Macbook. \n",
    "\n",
    "For the people in cluster 0 (Blue) we see a significant change in buying behaviour which indicates that this particular has aligned their identity with macbooks more than windows.  \n",
    "\n",
    "In the Future Laptop graph, we see that boxplots red and green stand out for Macbook, with a small positive median. But this trend is more perceptible for Windows Laptop. "
   ]
  },
  {
   "cell_type": "code",
   "execution_count": 37,
   "metadata": {},
   "outputs": [
    {
     "data": {
      "image/png": "[encoded data removed]",
      "text/plain": [
       "<Figure size 864x576 with 1 Axes>"
      ]
     },
     "metadata": {
      "needs_background": "light"
     },
     "output_type": "display_data"
    },
    {
     "data": {
      "image/png": "[encoded data removed]",
      "text/plain": [
       "<Figure size 864x576 with 1 Axes>"
      ]
     },
     "metadata": {
      "needs_background": "light"
     },
     "output_type": "display_data"
    }
   ],
   "source": [
    "########################\n",
    "# Current Computer\n",
    "########################\n",
    "\n",
    "# Founder\n",
    "fig, ax = plt.subplots(figsize = (12, 8))\n",
    "sns.boxplot(x = 'Current_Laptop',\n",
    "            y = 'Founder',\n",
    "            hue = 'Cluster',\n",
    "            data = data_df)\n",
    "\n",
    "\n",
    "# formatting and displaying the plot\n",
    "plt.tight_layout()\n",
    "plt.show()\n",
    "\n",
    "########################\n",
    "# Future Computer\n",
    "########################\n",
    "\n",
    "# Founder\n",
    "fig, ax = plt.subplots(figsize = (12, 8))\n",
    "sns.boxplot(x = 'Future_Laptop',\n",
    "            y = 'Founder',\n",
    "            hue = 'Cluster',\n",
    "            data = data_df)\n",
    "\n",
    "\n",
    "# formatting and displaying the plot\n",
    "plt.tight_layout()\n",
    "plt.show()"
   ]
  },
  {
   "cell_type": "markdown",
   "metadata": {},
   "source": [
    "In the current laptop graph:\n",
    "Interestingly, boxplots blue, red and purple are positive for Macbook users. \n",
    "Furthermore, we see that the blue boxplots have a higher median for Windows users. Implying that the cluster 0 is more sensible to a promotion targeting a 'Founder' audience for Windows computer than Macbook. \n",
    "\n",
    "Also, we see that the range of boxplots Red and Purple goes from the negatives to the positives. Thus, we understand that customers from the clusters 3 and 4 are mostly \"Founder\" but everytime.\n",
    "\n",
    "\n",
    "In the future laptop graph: \n",
    "Comparing the boxplots medians, we can see that customers willing to buy Macbook are more sensible to a promotion framed for 'Founder' individual than customers willing to buy Windows. However, the green boxplot (cluster2) has the reverse trend. \n",
    "\n",
    "Similarly to Current Laptop, the range of the boxplots goes from the negatives to the positives. Thus, it is unclear what will be the exact outcome of promoting Macbook using a \"Founder\" targeted communication. \n",
    "\n",
    "The fact that the Founder demographic has a generally positive relationship with Macbooks is aligned with the Brand message that Apple inspires innovation and creativity.  We see a change in the perception of the orange cluster 1 in the future laptop meaning we can anticipate more successful results for segmenting this cluster.  \n",
    "\n"
   ]
  },
  {
   "cell_type": "code",
   "execution_count": 38,
   "metadata": {},
   "outputs": [
    {
     "data": {
      "image/png": "[encoded data removed]",
      "text/plain": [
       "<Figure size 864x576 with 1 Axes>"
      ]
     },
     "metadata": {
      "needs_background": "light"
     },
     "output_type": "display_data"
    },
    {
     "data": {
      "image/png": "[encoded data removed]",
      "text/plain": [
       "<Figure size 864x576 with 1 Axes>"
      ]
     },
     "metadata": {
      "needs_background": "light"
     },
     "output_type": "display_data"
    }
   ],
   "source": [
    "########################\n",
    "# Current Computer\n",
    "########################\n",
    "\n",
    "# Commercial\n",
    "fig, ax = plt.subplots(figsize = (12, 8))\n",
    "sns.boxplot(x = 'Current_Laptop',\n",
    "            y = 'Commercial',\n",
    "            hue = 'Cluster',\n",
    "            data = data_df)\n",
    "\n",
    "\n",
    "# formatting and displaying the plot\n",
    "plt.tight_layout()\n",
    "plt.show()\n",
    "\n",
    "########################\n",
    "# Future Computer\n",
    "########################\n",
    "\n",
    "# Commercial\n",
    "fig, ax = plt.subplots(figsize = (12, 8))\n",
    "sns.boxplot(x = 'Future_Laptop',\n",
    "            y = 'Commercial',\n",
    "            hue = 'Cluster',\n",
    "            data = data_df)\n",
    "\n",
    "\n",
    "# formatting and displaying the plot\n",
    "plt.tight_layout()\n",
    "plt.show()"
   ]
  },
  {
   "cell_type": "markdown",
   "metadata": {},
   "source": [
    "In the Current laptop graph : \n",
    "We can see that the Cluster 4 (Purple) is standing out for Macbook users. This means the cluster 4 has the \"Commercial\" trait and will be sensible to define a promotional strategy targeting those set of users as the median is slightly higher for Windows users. \n",
    "\n",
    "Also, we see that the Cluster 3 (Red) scores negatively, implying that a campaign targeting \"commercial\" clients is not a good idea here. \n",
    "\n",
    "Finally, when comparing the medians of all boxplots we can see that they are higher for Windows users than Macbook users. Windows users are in general more \"Commercial\" than Macbook users.\n",
    "\n",
    "In the Future laptop graph :\n",
    "We see the same trends on this graph as before, with one difference : the range of the purple boxplot for macbook users increased significantly in the positives values. Also the observed difference for the medians of this cluster between Macbook and Windows has reduced.  This implies that there is an opportunity to reach more people in this cluster.\n",
    "\n",
    "\n",
    "In comparison to the Windows users the median for Macbook users for Clusters 0, 1 and 2 are negative in the Current Laptop Graph, we see a positive trend in the Windows users.\n",
    "\n",
    "While for the Future Laptop, Cluster 0 has increase a bit for Mackbook and reduced for Windows. The range for Cluster 1 and 2 has increased for Windoes. This graph shows that Mackbook is anticipated to lose a part of its market to Windows which is good insight to look into while making strategy for promotion in order to minimize the effect of this transition. \n"
   ]
  },
  {
   "cell_type": "code",
   "execution_count": 39,
   "metadata": {},
   "outputs": [
    {
     "data": {
      "image/png": "[encoded data removed]",
      "text/plain": [
       "<Figure size 864x576 with 1 Axes>"
      ]
     },
     "metadata": {
      "needs_background": "light"
     },
     "output_type": "display_data"
    },
    {
     "data": {
      "image/png": "[encoded data removed]",
      "text/plain": [
       "<Figure size 864x576 with 1 Axes>"
      ]
     },
     "metadata": {
      "needs_background": "light"
     },
     "output_type": "display_data"
    }
   ],
   "source": [
    "########################\n",
    "# Current Computer\n",
    "########################\n",
    "\n",
    "# Manager\n",
    "fig, ax = plt.subplots(figsize = (12, 8))\n",
    "sns.boxplot(x = 'Current_Laptop',\n",
    "            y = 'Manager',\n",
    "            hue = 'Cluster',\n",
    "            data = data_df)\n",
    "\n",
    "\n",
    "# formatting and displaying the plot\n",
    "plt.tight_layout()\n",
    "plt.show()\n",
    "\n",
    "########################\n",
    "# Future Laptop\n",
    "########################\n",
    "\n",
    "# Manager\n",
    "fig, ax = plt.subplots(figsize = (12, 8))\n",
    "sns.boxplot(x = 'Future_Laptop',\n",
    "            y = 'Manager',\n",
    "            hue = 'Cluster',\n",
    "            data = data_df)\n",
    "\n",
    "\n",
    "# formatting and displaying the plot\n",
    "plt.tight_layout()\n",
    "plt.show()"
   ]
  },
  {
   "cell_type": "markdown",
   "metadata": {},
   "source": [
    "The negative values for Cluster 0 for both graphs imply that the users are insensible to a promotion targeted for customers having a Manager trait. \n",
    "\n",
    "For Managers to convert to Apple it is important to influence the people's purchasing decisions. The trait of users in this group includes loyalty to whatever they commit to, and not open to new ideas which also makes them compliant and a loyal segment. If we target to convince the companies this segment work for, to convert from Windows to Macbook, the chances of success is high. Another positive about this segment is that it is fairly stable due to this loyalty and compliance so if we convert any of the clusters (red, green & purple) we are likely to have high chances of repeat purchase values over a sustained period of time."
   ]
  },
  {
   "cell_type": "code",
   "execution_count": 40,
   "metadata": {},
   "outputs": [
    {
     "data": {
      "image/png": "[encoded data removed]",
      "text/plain": [
       "<Figure size 864x576 with 1 Axes>"
      ]
     },
     "metadata": {
      "needs_background": "light"
     },
     "output_type": "display_data"
    },
    {
     "data": {
      "image/png": "[encoded data removed]",
      "text/plain": [
       "<Figure size 864x576 with 1 Axes>"
      ]
     },
     "metadata": {
      "needs_background": "light"
     },
     "output_type": "display_data"
    }
   ],
   "source": [
    "########################\n",
    "# Current Computer\n",
    "########################\n",
    "\n",
    "# CFO\n",
    "fig, ax = plt.subplots(figsize = (12, 8))\n",
    "sns.boxplot(x = 'Current_Laptop',\n",
    "            y = 'CFO',\n",
    "            hue = 'Cluster',\n",
    "            data = data_df)\n",
    "\n",
    "\n",
    "# formatting and displaying the plot\n",
    "plt.tight_layout()\n",
    "plt.show()\n",
    "\n",
    "########################\n",
    "# Futur Computer\n",
    "########################\n",
    "\n",
    "# CFO\n",
    "fig, ax = plt.subplots(figsize = (12, 8))\n",
    "sns.boxplot(x = 'Future_Laptop',\n",
    "            y = 'CFO',\n",
    "            hue = 'Cluster',\n",
    "            data = data_df)\n",
    "\n",
    "\n",
    "# formatting and displaying the plot\n",
    "plt.tight_layout()\n",
    "plt.show()"
   ]
  },
  {
   "cell_type": "markdown",
   "metadata": {},
   "source": [
    "The market for CFO's in orange cluster 1 is anticipated to grow for Macbooks, even having a higher median than Windows as indicated by the boxplot.  In terms of the purple cluster we see sustained growth in CFO minded people meaning that there is a potential for improvement in this segment. \n",
    "\n",
    "We can anticipate more growth to catch up with the Windows laptops in the red cluster so a targeted campaign for this base would influence buyer behavior to sway more towards Macbooks. \n",
    "\n",
    "In conclusion the red and orange cluster are the most likely to succeed. "
   ]
  },
  {
   "cell_type": "markdown",
   "metadata": {},
   "source": [
    "<strong> 1.5 CONCLUSION <strong>"
   ]
  },
  {
   "cell_type": "markdown",
   "metadata": {},
   "source": [
    "\n",
    "Based on the analysis above, we would like to conclude the following : \n",
    "\n",
    "1. Cluster 0 [Blue]\n",
    "- It is more beneficial to target them using a promotion framed for clients sharing the \"Founder\" trait. \n",
    "\n",
    "- However, it is important to avoid addressing this cluster using \"Manager\" and \"CFO\" traits.  \n",
    "\n",
    "2. Cluster 1 [Orange]\n",
    "- This cluster prefers a \"CFO\" framed promotion. \n",
    "\n",
    "- They are not sensible to a promotion framed for \"Follower\" trait\n",
    "\n",
    "3. Cluster 2 [Green]\n",
    "- Clients from the cluster 2 are sensible to promotion framed for the \"Manager\" type. \n",
    "\n",
    "- But they are insensible to a \"Founder\"  campaigns\n",
    "\n",
    "4. Cluster 3 [Red]\n",
    "\n",
    "- This cluster is much more responsive than the other ones. Indeed they are sensible to a promotion targeting \"Follower\" and \"Founder\"  and \"Manager\" and \"CFO\"\n",
    "\n",
    "- However it is important to avoid using \"Commercial\" framed promotion when communicating to them.\n",
    "\n",
    "5. Cluster 4 [Purple]\n",
    "- This cluster seems to be sensible to \"Founder\", \"Commercial\" and \"Manager\" promotions.\n"
   ]
  }
 ],
 "metadata": {
  "kernelspec": {
   "display_name": "Python 3",
   "language": "python",
   "name": "python3"
  },
  "language_info": {
   "codemirror_mode": {
    "name": "ipython",
    "version": 3
   },
   "file_extension": ".py",
   "mimetype": "text/x-python",
   "name": "python",
   "nbconvert_exporter": "python",
   "pygments_lexer": "ipython3",
   "version": "3.8.3"
  },
  "toc": {
   "base_numbering": 1,
   "nav_menu": {},
   "number_sections": true,
   "sideBar": true,
   "skip_h1_title": false,
   "title_cell": "Table of Contents",
   "title_sidebar": "Contents",
   "toc_cell": false,
   "toc_position": {},
   "toc_section_display": true,
   "toc_window_display": false
  },
  "varInspector": {
   "cols": {
    "lenName": 16,
    "lenType": 16,
    "lenVar": 40
   },
   "kernels_config": {
    "python": {
     "delete_cmd_postfix": "",
     "delete_cmd_prefix": "del ",
     "library": "var_list.py",
     "varRefreshCmd": "print(var_dic_list())"
    },
    "r": {
     "delete_cmd_postfix": ") ",
     "delete_cmd_prefix": "rm(",
     "library": "var_list.r",
     "varRefreshCmd": "cat(var_dic_list()) "
    }
   },
   "types_to_exclude": [
    "module",
    "function",
    "builtin_function_or_method",
    "instance",
    "_Feature"
   ],
   "window_display": false
  }
 },
 "nbformat": 4,
 "nbformat_minor": 4
}
